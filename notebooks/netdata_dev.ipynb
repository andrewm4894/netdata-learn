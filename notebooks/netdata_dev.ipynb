{
 "cells": [
  {
   "cell_type": "code",
   "execution_count": 1,
   "metadata": {},
   "outputs": [
    {
     "ename": "ModuleNotFoundError",
     "evalue": "No module named 'requests'",
     "output_type": "error",
     "traceback": [
      "\u001b[0;31m---------------------------------------------------------------------------\u001b[0m",
      "\u001b[0;31mModuleNotFoundError\u001b[0m                       Traceback (most recent call last)",
      "\u001b[0;32m<ipython-input-1-c99d322a9edd>\u001b[0m in \u001b[0;36m<module>\u001b[0;34m\u001b[0m\n\u001b[1;32m      1\u001b[0m \u001b[0;32mimport\u001b[0m \u001b[0mpandas\u001b[0m \u001b[0;32mas\u001b[0m \u001b[0mpd\u001b[0m\u001b[0;34m\u001b[0m\u001b[0;34m\u001b[0m\u001b[0m\n\u001b[0;32m----> 2\u001b[0;31m \u001b[0;32mimport\u001b[0m \u001b[0mrequests\u001b[0m\u001b[0;34m\u001b[0m\u001b[0;34m\u001b[0m\u001b[0m\n\u001b[0m\u001b[1;32m      3\u001b[0m \u001b[0;31m# import custom netdata stuff from our package\u001b[0m\u001b[0;34m\u001b[0m\u001b[0;34m\u001b[0m\u001b[0;34m\u001b[0m\u001b[0m\n\u001b[1;32m      4\u001b[0m \u001b[0;32mfrom\u001b[0m \u001b[0mnetdata_api_utils\u001b[0m\u001b[0;34m.\u001b[0m\u001b[0mutils\u001b[0m \u001b[0;32mimport\u001b[0m \u001b[0mapi\u001b[0m\u001b[0;34m,\u001b[0m \u001b[0mget_metrics\u001b[0m\u001b[0;34m\u001b[0m\u001b[0;34m\u001b[0m\u001b[0m\n",
      "\u001b[0;31mModuleNotFoundError\u001b[0m: No module named 'requests'"
     ]
    }
   ],
   "source": [
    "# standard imports\n",
    "import pandas as pd\n",
    "# import custom netdata stuff from our package\n",
    "from netdata_api_utils.utils import api, get_metrics"
   ]
  },
  {
   "cell_type": "markdown",
   "metadata": {},
   "source": [
    "## df_allmetrics"
   ]
  },
  {
   "cell_type": "code",
   "execution_count": 64,
   "metadata": {},
   "outputs": [
    {
     "name": "stdout",
     "output_type": "stream",
     "text": [
      "(210, 5)\n"
     ]
    },
    {
     "data": {
      "text/html": [
       "<div>\n",
       "<style scoped>\n",
       "    .dataframe tbody tr th:only-of-type {\n",
       "        vertical-align: middle;\n",
       "    }\n",
       "\n",
       "    .dataframe tbody tr th {\n",
       "        vertical-align: top;\n",
       "    }\n",
       "\n",
       "    .dataframe thead th {\n",
       "        text-align: right;\n",
       "    }\n",
       "</style>\n",
       "<table border=\"1\" class=\"dataframe\">\n",
       "  <thead>\n",
       "    <tr style=\"text-align: right;\">\n",
       "      <th></th>\n",
       "      <th>name</th>\n",
       "      <th>context</th>\n",
       "      <th>units</th>\n",
       "      <th>last_updated</th>\n",
       "      <th>dimensions</th>\n",
       "    </tr>\n",
       "  </thead>\n",
       "  <tbody>\n",
       "    <tr>\n",
       "      <th>apps.uptime_max</th>\n",
       "      <td>apps.uptime_max</td>\n",
       "      <td>apps.uptime_max</td>\n",
       "      <td>seconds</td>\n",
       "      <td>1568385810</td>\n",
       "      <td>{'netdata': {'name': 'netdata', 'value': 7414....</td>\n",
       "    </tr>\n",
       "    <tr>\n",
       "      <th>disk_ops.sda</th>\n",
       "      <td>disk_ops.sda</td>\n",
       "      <td>disk.ops</td>\n",
       "      <td>operations/s</td>\n",
       "      <td>1568385810</td>\n",
       "      <td>{'reads': {'name': 'reads', 'value': 0.0}, 'wr...</td>\n",
       "    </tr>\n",
       "    <tr>\n",
       "      <th>netdata.web_thread1_cpu</th>\n",
       "      <td>netdata.web_thread1_cpu</td>\n",
       "      <td>netdata.web_cpu</td>\n",
       "      <td>milliseconds/s</td>\n",
       "      <td>1568385809</td>\n",
       "      <td>{'user': {'name': 'user', 'value': 0.0}, 'syst...</td>\n",
       "    </tr>\n",
       "    <tr>\n",
       "      <th>system.net</th>\n",
       "      <td>system.net</td>\n",
       "      <td>system.net</td>\n",
       "      <td>kilobits/s</td>\n",
       "      <td>1568385810</td>\n",
       "      <td>{'InOctets': {'name': 'received', 'value': 11....</td>\n",
       "    </tr>\n",
       "    <tr>\n",
       "      <th>netdata.db_points</th>\n",
       "      <td>netdata.db_points</td>\n",
       "      <td>netdata.db_points</td>\n",
       "      <td>points/s</td>\n",
       "      <td>1568385810</td>\n",
       "      <td>{'read': {'name': 'read', 'value': 0.0}, 'gene...</td>\n",
       "    </tr>\n",
       "    <tr>\n",
       "      <th>netdata.statsd_bytes</th>\n",
       "      <td>netdata.statsd_bytes</td>\n",
       "      <td>netdata.statsd_bytes</td>\n",
       "      <td>kilobits/s</td>\n",
       "      <td>1568385810</td>\n",
       "      <td>{'tcp': {'name': 'tcp', 'value': 0.0}, 'udp': ...</td>\n",
       "    </tr>\n",
       "    <tr>\n",
       "      <th>cpu.cpu2_cpuidle</th>\n",
       "      <td>cpu.cpu2_cpuidle</td>\n",
       "      <td>cpuidle.cpuidle</td>\n",
       "      <td>percentage</td>\n",
       "      <td>1568385810</td>\n",
       "      <td>{'cpu2_active_time': {'name': 'C0 (active)', '...</td>\n",
       "    </tr>\n",
       "    <tr>\n",
       "      <th>users.sockets</th>\n",
       "      <td>users.sockets</td>\n",
       "      <td>users.sockets</td>\n",
       "      <td>open sockets</td>\n",
       "      <td>1568385810</td>\n",
       "      <td>{'ntp': {'name': 'ntp', 'value': 10.0}, 'andre...</td>\n",
       "    </tr>\n",
       "    <tr>\n",
       "      <th>groups.lreads</th>\n",
       "      <td>groups.lreads</td>\n",
       "      <td>groups.lreads</td>\n",
       "      <td>KiB/s</td>\n",
       "      <td>1568385810</td>\n",
       "      <td>{'ntp': {'name': 'ntp', 'value': 0.0}, 'andrew...</td>\n",
       "    </tr>\n",
       "    <tr>\n",
       "      <th>disk_iotime.sda</th>\n",
       "      <td>disk_iotime.sda</td>\n",
       "      <td>disk.iotime</td>\n",
       "      <td>milliseconds/s</td>\n",
       "      <td>1568385810</td>\n",
       "      <td>{'reads': {'name': 'reads', 'value': 0.0}, 'wr...</td>\n",
       "    </tr>\n",
       "  </tbody>\n",
       "</table>\n",
       "</div>"
      ],
      "text/plain": [
       "                                            name               context  \\\n",
       "apps.uptime_max                  apps.uptime_max       apps.uptime_max   \n",
       "disk_ops.sda                        disk_ops.sda              disk.ops   \n",
       "netdata.web_thread1_cpu  netdata.web_thread1_cpu       netdata.web_cpu   \n",
       "system.net                            system.net            system.net   \n",
       "netdata.db_points              netdata.db_points     netdata.db_points   \n",
       "netdata.statsd_bytes        netdata.statsd_bytes  netdata.statsd_bytes   \n",
       "cpu.cpu2_cpuidle                cpu.cpu2_cpuidle       cpuidle.cpuidle   \n",
       "users.sockets                      users.sockets         users.sockets   \n",
       "groups.lreads                      groups.lreads         groups.lreads   \n",
       "disk_iotime.sda                  disk_iotime.sda           disk.iotime   \n",
       "\n",
       "                                  units  last_updated  \\\n",
       "apps.uptime_max                 seconds    1568385810   \n",
       "disk_ops.sda               operations/s    1568385810   \n",
       "netdata.web_thread1_cpu  milliseconds/s    1568385809   \n",
       "system.net                   kilobits/s    1568385810   \n",
       "netdata.db_points              points/s    1568385810   \n",
       "netdata.statsd_bytes         kilobits/s    1568385810   \n",
       "cpu.cpu2_cpuidle             percentage    1568385810   \n",
       "users.sockets              open sockets    1568385810   \n",
       "groups.lreads                     KiB/s    1568385810   \n",
       "disk_iotime.sda          milliseconds/s    1568385810   \n",
       "\n",
       "                                                                dimensions  \n",
       "apps.uptime_max          {'netdata': {'name': 'netdata', 'value': 7414....  \n",
       "disk_ops.sda             {'reads': {'name': 'reads', 'value': 0.0}, 'wr...  \n",
       "netdata.web_thread1_cpu  {'user': {'name': 'user', 'value': 0.0}, 'syst...  \n",
       "system.net               {'InOctets': {'name': 'received', 'value': 11....  \n",
       "netdata.db_points        {'read': {'name': 'read', 'value': 0.0}, 'gene...  \n",
       "netdata.statsd_bytes     {'tcp': {'name': 'tcp', 'value': 0.0}, 'udp': ...  \n",
       "cpu.cpu2_cpuidle         {'cpu2_active_time': {'name': 'C0 (active)', '...  \n",
       "users.sockets            {'ntp': {'name': 'ntp', 'value': 10.0}, 'andre...  \n",
       "groups.lreads            {'ntp': {'name': 'ntp', 'value': 0.0}, 'andrew...  \n",
       "disk_iotime.sda          {'reads': {'name': 'reads', 'value': 0.0}, 'wr...  "
      ]
     },
     "execution_count": 64,
     "metadata": {},
     "output_type": "execute_result"
    }
   ],
   "source": [
    "df_allmetrics = pd.DataFrame.from_dict(\n",
    "    api(\n",
    "        endpoint='allmetrics',\n",
    "        options='?format=json'\n",
    "    ),\n",
    "    orient='index'\n",
    ")\n",
    "print(df_allmetrics.shape)\n",
    "df_allmetrics.sample(10)"
   ]
  },
  {
   "cell_type": "markdown",
   "metadata": {},
   "source": [
    "## df"
   ]
  },
  {
   "cell_type": "code",
   "execution_count": 79,
   "metadata": {},
   "outputs": [
    {
     "name": "stdout",
     "output_type": "stream",
     "text": [
      "(60, 4)\n"
     ]
    },
    {
     "data": {
      "text/html": [
       "<div>\n",
       "<style scoped>\n",
       "    .dataframe tbody tr th:only-of-type {\n",
       "        vertical-align: middle;\n",
       "    }\n",
       "\n",
       "    .dataframe tbody tr th {\n",
       "        vertical-align: top;\n",
       "    }\n",
       "\n",
       "    .dataframe thead th {\n",
       "        text-align: right;\n",
       "    }\n",
       "</style>\n",
       "<table border=\"1\" class=\"dataframe\">\n",
       "  <thead>\n",
       "    <tr style=\"text-align: right;\">\n",
       "      <th></th>\n",
       "      <th>time</th>\n",
       "      <th>name</th>\n",
       "      <th>label</th>\n",
       "      <th>value</th>\n",
       "    </tr>\n",
       "  </thead>\n",
       "  <tbody>\n",
       "    <tr>\n",
       "      <th>0</th>\n",
       "      <td>1568386800</td>\n",
       "      <td>users.sockets</td>\n",
       "      <td>ntp</td>\n",
       "      <td>10</td>\n",
       "    </tr>\n",
       "    <tr>\n",
       "      <th>1</th>\n",
       "      <td>1568386740</td>\n",
       "      <td>users.sockets</td>\n",
       "      <td>ntp</td>\n",
       "      <td>10</td>\n",
       "    </tr>\n",
       "    <tr>\n",
       "      <th>2</th>\n",
       "      <td>1568386680</td>\n",
       "      <td>users.sockets</td>\n",
       "      <td>ntp</td>\n",
       "      <td>10</td>\n",
       "    </tr>\n",
       "    <tr>\n",
       "      <th>3</th>\n",
       "      <td>1568386620</td>\n",
       "      <td>users.sockets</td>\n",
       "      <td>ntp</td>\n",
       "      <td>10</td>\n",
       "    </tr>\n",
       "    <tr>\n",
       "      <th>4</th>\n",
       "      <td>1568386560</td>\n",
       "      <td>users.sockets</td>\n",
       "      <td>ntp</td>\n",
       "      <td>10</td>\n",
       "    </tr>\n",
       "  </tbody>\n",
       "</table>\n",
       "</div>"
      ],
      "text/plain": [
       "         time           name label value\n",
       "0  1568386800  users.sockets   ntp    10\n",
       "1  1568386740  users.sockets   ntp    10\n",
       "2  1568386680  users.sockets   ntp    10\n",
       "3  1568386620  users.sockets   ntp    10\n",
       "4  1568386560  users.sockets   ntp    10"
      ]
     },
     "execution_count": 79,
     "metadata": {},
     "output_type": "execute_result"
    }
   ],
   "source": [
    "df = get_metrics(['users.sockets'])\n",
    "print(df.shape)\n",
    "df.head()"
   ]
  },
  {
   "cell_type": "code",
   "execution_count": null,
   "metadata": {},
   "outputs": [],
   "source": []
  },
  {
   "cell_type": "code",
   "execution_count": null,
   "metadata": {},
   "outputs": [],
   "source": []
  },
  {
   "cell_type": "code",
   "execution_count": null,
   "metadata": {},
   "outputs": [],
   "source": []
  },
  {
   "cell_type": "code",
   "execution_count": null,
   "metadata": {},
   "outputs": [],
   "source": []
  }
 ],
 "metadata": {
  "kernelspec": {
   "display_name": "Python 3",
   "language": "python",
   "name": "python3"
  },
  "language_info": {
   "codemirror_mode": {
    "name": "ipython",
    "version": 3
   },
   "file_extension": ".py",
   "mimetype": "text/x-python",
   "name": "python",
   "nbconvert_exporter": "python",
   "pygments_lexer": "ipython3",
   "version": "3.6.9"
  }
 },
 "nbformat": 4,
 "nbformat_minor": 4
}
