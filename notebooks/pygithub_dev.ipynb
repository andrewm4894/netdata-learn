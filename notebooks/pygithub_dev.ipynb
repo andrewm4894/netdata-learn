{
 "cells": [
  {
   "cell_type": "code",
   "execution_count": 54,
   "metadata": {},
   "outputs": [],
   "source": [
    "import pandas as pd\n",
    "from geopy.geocoders import Nominatim\n",
    "from github import Github\n",
    "from creds import GH_TOKEN"
   ]
  },
  {
   "cell_type": "code",
   "execution_count": 3,
   "metadata": {},
   "outputs": [],
   "source": [
    "g = Github(GH_TOKEN)"
   ]
  },
  {
   "cell_type": "code",
   "execution_count": 48,
   "metadata": {},
   "outputs": [],
   "source": [
    "repo = g.get_repo(\"netdata/netdata\")"
   ]
  },
  {
   "cell_type": "code",
   "execution_count": 73,
   "metadata": {},
   "outputs": [
    {
     "name": "stdout",
     "output_type": "stream",
     "text": [
      "Ireland\n"
     ]
    }
   ],
   "source": [
    "geolocator = Nominatim(user_agent=\"specify_your_app_name_here\")\n",
    "location = geolocator.geocode(\"Dublin, Ireland\",addressdetails=True)\n",
    "print(location.raw['address']['country'])"
   ]
  },
  {
   "cell_type": "code",
   "execution_count": 74,
   "metadata": {},
   "outputs": [
    {
     "name": "stdout",
     "output_type": "stream",
     "text": [
      "(5, 7)\n"
     ]
    },
    {
     "data": {
      "text/html": [
       "<div>\n",
       "<style scoped>\n",
       "    .dataframe tbody tr th:only-of-type {\n",
       "        vertical-align: middle;\n",
       "    }\n",
       "\n",
       "    .dataframe tbody tr th {\n",
       "        vertical-align: top;\n",
       "    }\n",
       "\n",
       "    .dataframe thead th {\n",
       "        text-align: right;\n",
       "    }\n",
       "</style>\n",
       "<table border=\"1\" class=\"dataframe\">\n",
       "  <thead>\n",
       "    <tr style=\"text-align: right;\">\n",
       "      <th></th>\n",
       "      <th>starred_at</th>\n",
       "      <th>name</th>\n",
       "      <th>company</th>\n",
       "      <th>email</th>\n",
       "      <th>location</th>\n",
       "      <th>user_followers</th>\n",
       "      <th>user_url</th>\n",
       "    </tr>\n",
       "  </thead>\n",
       "  <tbody>\n",
       "    <tr>\n",
       "      <td>0</td>\n",
       "      <td>2013-06-17 19:34:04</td>\n",
       "      <td>Costa Tsaousis</td>\n",
       "      <td>netdata, Inc.</td>\n",
       "      <td>costa@tsaousis.gr</td>\n",
       "      <td>Greece</td>\n",
       "      <td>389</td>\n",
       "      <td>https://api.github.com/users/ktsaou</td>\n",
       "    </tr>\n",
       "    <tr>\n",
       "      <td>1</td>\n",
       "      <td>2013-12-19 20:58:49</td>\n",
       "      <td>Kim Thostrup</td>\n",
       "      <td>None</td>\n",
       "      <td>None</td>\n",
       "      <td>Denmark</td>\n",
       "      <td>4</td>\n",
       "      <td>https://api.github.com/users/kimthostrup</td>\n",
       "    </tr>\n",
       "    <tr>\n",
       "      <td>2</td>\n",
       "      <td>2014-06-15 11:31:32</td>\n",
       "      <td>None</td>\n",
       "      <td>None</td>\n",
       "      <td>None</td>\n",
       "      <td>None</td>\n",
       "      <td>8</td>\n",
       "      <td>https://api.github.com/users/Kozlov-V</td>\n",
       "    </tr>\n",
       "    <tr>\n",
       "      <td>3</td>\n",
       "      <td>2014-06-22 06:29:27</td>\n",
       "      <td>None</td>\n",
       "      <td>None</td>\n",
       "      <td>None</td>\n",
       "      <td>None</td>\n",
       "      <td>3</td>\n",
       "      <td>https://api.github.com/users/vmmello</td>\n",
       "    </tr>\n",
       "    <tr>\n",
       "      <td>4</td>\n",
       "      <td>2015-02-23 14:07:18</td>\n",
       "      <td>Laurent Coustet</td>\n",
       "      <td>None</td>\n",
       "      <td>ed@zehome.com</td>\n",
       "      <td>Toulouse, France</td>\n",
       "      <td>29</td>\n",
       "      <td>https://api.github.com/users/zehome</td>\n",
       "    </tr>\n",
       "  </tbody>\n",
       "</table>\n",
       "</div>"
      ],
      "text/plain": [
       "           starred_at             name        company              email  \\\n",
       "0 2013-06-17 19:34:04   Costa Tsaousis  netdata, Inc.  costa@tsaousis.gr   \n",
       "1 2013-12-19 20:58:49     Kim Thostrup           None               None   \n",
       "2 2014-06-15 11:31:32             None           None               None   \n",
       "3 2014-06-22 06:29:27             None           None               None   \n",
       "4 2015-02-23 14:07:18  Laurent Coustet           None      ed@zehome.com   \n",
       "\n",
       "           location  user_followers                                  user_url  \n",
       "0            Greece             389       https://api.github.com/users/ktsaou  \n",
       "1           Denmark               4  https://api.github.com/users/kimthostrup  \n",
       "2              None               8     https://api.github.com/users/Kozlov-V  \n",
       "3              None               3      https://api.github.com/users/vmmello  \n",
       "4  Toulouse, France              29       https://api.github.com/users/zehome  "
      ]
     },
     "execution_count": 74,
     "metadata": {},
     "output_type": "execute_result"
    }
   ],
   "source": [
    "# get info on users who starred the repo\n",
    "data = []\n",
    "n_max = 5\n",
    "n = 0\n",
    "for x in repo.get_stargazers_with_dates():\n",
    "    if n >= n_max:\n",
    "        break\n",
    "    data.append([x.starred_at, x.user.name, x.user.company, x.user.email, x.user.location, x.user.followers, x.user.url])\n",
    "    n += 1\n",
    "cols = ['starred_at','name','company','email','location','user_followers','user_url']\n",
    "df = pd.DataFrame(data,columns=cols)\n",
    "print(df.shape)\n",
    "df.head()"
   ]
  },
  {
   "cell_type": "code",
   "execution_count": 81,
   "metadata": {},
   "outputs": [
    {
     "name": "stdout",
     "output_type": "stream",
     "text": [
      "Ελλάδα gr\n",
      "Danmark dk\n",
      "Danmark None\n",
      "Danmark None\n",
      "Toulouse, Haute-Garonne, Occitanie, France métropolitaine, France fr\n"
     ]
    }
   ],
   "source": [
    "user_country = []\n",
    "for l in df['location']:\n",
    "    if l:\n",
    "        location = geolocator.geocode(l,addressdetails=True)\n",
    "        country_code = location.raw['address']['country_code']\n",
    "    else:\n",
    "        country_code = None\n",
    "    print(location, country_code)"
   ]
  },
  {
   "cell_type": "code",
   "execution_count": null,
   "metadata": {},
   "outputs": [],
   "source": []
  },
  {
   "cell_type": "code",
   "execution_count": null,
   "metadata": {},
   "outputs": [],
   "source": []
  },
  {
   "cell_type": "code",
   "execution_count": 13,
   "metadata": {},
   "outputs": [
    {
     "data": {
      "text/plain": [
       "['__call__',\n",
       " '__class__',\n",
       " '__delattr__',\n",
       " '__dir__',\n",
       " '__doc__',\n",
       " '__eq__',\n",
       " '__format__',\n",
       " '__func__',\n",
       " '__ge__',\n",
       " '__get__',\n",
       " '__getattribute__',\n",
       " '__gt__',\n",
       " '__hash__',\n",
       " '__init__',\n",
       " '__init_subclass__',\n",
       " '__le__',\n",
       " '__lt__',\n",
       " '__ne__',\n",
       " '__new__',\n",
       " '__reduce__',\n",
       " '__reduce_ex__',\n",
       " '__repr__',\n",
       " '__self__',\n",
       " '__setattr__',\n",
       " '__sizeof__',\n",
       " '__str__',\n",
       " '__subclasshook__']"
      ]
     },
     "execution_count": 13,
     "metadata": {},
     "output_type": "execute_result"
    }
   ],
   "source": [
    "dir(repo.get_stargazers_with_dates)"
   ]
  },
  {
   "cell_type": "code",
   "execution_count": 12,
   "metadata": {},
   "outputs": [
    {
     "data": {
      "text/plain": [
       "<method-wrapper '__get__' of method object at 0x7f521c1eecc8>"
      ]
     },
     "execution_count": 12,
     "metadata": {},
     "output_type": "execute_result"
    }
   ],
   "source": [
    "repo.get"
   ]
  },
  {
   "cell_type": "code",
   "execution_count": null,
   "metadata": {},
   "outputs": [],
   "source": []
  },
  {
   "cell_type": "code",
   "execution_count": null,
   "metadata": {},
   "outputs": [],
   "source": []
  },
  {
   "cell_type": "code",
   "execution_count": null,
   "metadata": {},
   "outputs": [],
   "source": []
  }
 ],
 "metadata": {
  "kernelspec": {
   "display_name": "Python 3",
   "language": "python",
   "name": "python3"
  },
  "language_info": {
   "codemirror_mode": {
    "name": "ipython",
    "version": 3
   },
   "file_extension": ".py",
   "mimetype": "text/x-python",
   "name": "python",
   "nbconvert_exporter": "python",
   "pygments_lexer": "ipython3",
   "version": "3.6.9"
  }
 },
 "nbformat": 4,
 "nbformat_minor": 4
}
