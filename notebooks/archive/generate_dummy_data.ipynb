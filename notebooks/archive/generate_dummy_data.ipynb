{
 "cells": [
  {
   "cell_type": "code",
   "execution_count": 10,
   "metadata": {},
   "outputs": [],
   "source": [
    "import numpy as np\n",
    "import pandas as pd\n",
    "\n",
    "%matplotlib inline"
   ]
  },
  {
   "cell_type": "code",
   "execution_count": 24,
   "metadata": {},
   "outputs": [
    {
     "data": {
      "text/plain": [
       "(1250, 6)"
      ]
     },
     "execution_count": 24,
     "metadata": {},
     "output_type": "execute_result"
    }
   ],
   "source": [
    "def make_data(shape=(1000,5),rand_range=(0,100),anom_len=250,anom_range=(500,510)):\n",
    "    data = np.random.randint(rand_range[0],rand_range[1],size=shape)\n",
    "    df = pd.DataFrame(data,columns=[f'col_{n}'for n in range(shape[1])])\n",
    "    if anom_len > 0:\n",
    "        df['is_anom'] = 0 \n",
    "        data_anom = np.random.randint(anom_range[0],anom_range[1],size=(anom_len,shape[1]))\n",
    "        df_anom = pd.DataFrame(data_anom,columns=[f'col_{n}'for n in range(shape[1])])\n",
    "        df_anom['is_anom'] = 1\n",
    "        df = df.append(df_anom)\n",
    "    return df\n",
    "\n",
    "make_data().shape"
   ]
  },
  {
   "cell_type": "code",
   "execution_count": 16,
   "metadata": {},
   "outputs": [
    {
     "data": {
      "text/plain": [
       "array([[75, 41, 41, 12,  2],\n",
       "       [75, 39, 57, 42, 22],\n",
       "       [41, 21, 23, 92, 53],\n",
       "       ...,\n",
       "       [47, 11, 32, 95, 88],\n",
       "       [96, 78, 94, 28,  7],\n",
       "       [16, 24, 19, 54,  4]])"
      ]
     },
     "execution_count": 16,
     "metadata": {},
     "output_type": "execute_result"
    }
   ],
   "source": [
    "np.random.randint(rand_range[0],rand_range[1],size=(n_data,n_features))"
   ]
  },
  {
   "cell_type": "code",
   "execution_count": null,
   "metadata": {},
   "outputs": [],
   "source": []
  },
  {
   "cell_type": "code",
   "execution_count": 3,
   "metadata": {},
   "outputs": [],
   "source": [
    "n_features = 5\n",
    "n_samples_normal = 1000\n",
    "n_samples_broken = 50"
   ]
  },
  {
   "cell_type": "code",
   "execution_count": 4,
   "metadata": {},
   "outputs": [],
   "source": [
    "# generate some normal data\n",
    "df_normal = pd.DataFrame(np.random.randint(0,100,size=(n_samples_normal, n_features)), columns = [f'col_{n+1}' for n in range(n_features)])\n",
    "df_normal['rownum'] = np.arange(len(df_normal))\n",
    "df_normal['label'] = 0\n",
    "\n",
    "# generate some broken data\n",
    "df_broken = pd.DataFrame(np.random.randint(0,1000,size=(n_samples_broken, n_features)), columns = [f'col_{n+1}' for n in range(n_features)])\n",
    "df_broken['rownum'] = df_normal['rownum'].max() + np.arange(len(df_broken))\n",
    "df_broken['label'] = 1"
   ]
  },
  {
   "cell_type": "code",
   "execution_count": 5,
   "metadata": {},
   "outputs": [
    {
     "name": "stdout",
     "output_type": "stream",
     "text": [
      "(1050, 6)\n"
     ]
    },
    {
     "data": {
      "text/html": [
       "<div>\n",
       "<style scoped>\n",
       "    .dataframe tbody tr th:only-of-type {\n",
       "        vertical-align: middle;\n",
       "    }\n",
       "\n",
       "    .dataframe tbody tr th {\n",
       "        vertical-align: top;\n",
       "    }\n",
       "\n",
       "    .dataframe thead th {\n",
       "        text-align: right;\n",
       "    }\n",
       "</style>\n",
       "<table border=\"1\" class=\"dataframe\">\n",
       "  <thead>\n",
       "    <tr style=\"text-align: right;\">\n",
       "      <th></th>\n",
       "      <th>col_1</th>\n",
       "      <th>col_2</th>\n",
       "      <th>col_3</th>\n",
       "      <th>col_4</th>\n",
       "      <th>col_5</th>\n",
       "      <th>label</th>\n",
       "    </tr>\n",
       "    <tr>\n",
       "      <th>rownum</th>\n",
       "      <th></th>\n",
       "      <th></th>\n",
       "      <th></th>\n",
       "      <th></th>\n",
       "      <th></th>\n",
       "      <th></th>\n",
       "    </tr>\n",
       "  </thead>\n",
       "  <tbody>\n",
       "    <tr>\n",
       "      <td>950</td>\n",
       "      <td>25</td>\n",
       "      <td>87</td>\n",
       "      <td>30</td>\n",
       "      <td>13</td>\n",
       "      <td>31</td>\n",
       "      <td>0</td>\n",
       "    </tr>\n",
       "    <tr>\n",
       "      <td>951</td>\n",
       "      <td>13</td>\n",
       "      <td>36</td>\n",
       "      <td>60</td>\n",
       "      <td>59</td>\n",
       "      <td>49</td>\n",
       "      <td>0</td>\n",
       "    </tr>\n",
       "    <tr>\n",
       "      <td>952</td>\n",
       "      <td>63</td>\n",
       "      <td>41</td>\n",
       "      <td>83</td>\n",
       "      <td>61</td>\n",
       "      <td>58</td>\n",
       "      <td>0</td>\n",
       "    </tr>\n",
       "    <tr>\n",
       "      <td>953</td>\n",
       "      <td>96</td>\n",
       "      <td>91</td>\n",
       "      <td>81</td>\n",
       "      <td>61</td>\n",
       "      <td>86</td>\n",
       "      <td>0</td>\n",
       "    </tr>\n",
       "    <tr>\n",
       "      <td>954</td>\n",
       "      <td>17</td>\n",
       "      <td>6</td>\n",
       "      <td>53</td>\n",
       "      <td>56</td>\n",
       "      <td>18</td>\n",
       "      <td>0</td>\n",
       "    </tr>\n",
       "    <tr>\n",
       "      <td>...</td>\n",
       "      <td>...</td>\n",
       "      <td>...</td>\n",
       "      <td>...</td>\n",
       "      <td>...</td>\n",
       "      <td>...</td>\n",
       "      <td>...</td>\n",
       "    </tr>\n",
       "    <tr>\n",
       "      <td>1044</td>\n",
       "      <td>545</td>\n",
       "      <td>263</td>\n",
       "      <td>999</td>\n",
       "      <td>812</td>\n",
       "      <td>803</td>\n",
       "      <td>1</td>\n",
       "    </tr>\n",
       "    <tr>\n",
       "      <td>1045</td>\n",
       "      <td>380</td>\n",
       "      <td>341</td>\n",
       "      <td>197</td>\n",
       "      <td>468</td>\n",
       "      <td>63</td>\n",
       "      <td>1</td>\n",
       "    </tr>\n",
       "    <tr>\n",
       "      <td>1046</td>\n",
       "      <td>157</td>\n",
       "      <td>750</td>\n",
       "      <td>856</td>\n",
       "      <td>444</td>\n",
       "      <td>694</td>\n",
       "      <td>1</td>\n",
       "    </tr>\n",
       "    <tr>\n",
       "      <td>1047</td>\n",
       "      <td>275</td>\n",
       "      <td>281</td>\n",
       "      <td>872</td>\n",
       "      <td>711</td>\n",
       "      <td>63</td>\n",
       "      <td>1</td>\n",
       "    </tr>\n",
       "    <tr>\n",
       "      <td>1048</td>\n",
       "      <td>387</td>\n",
       "      <td>426</td>\n",
       "      <td>907</td>\n",
       "      <td>307</td>\n",
       "      <td>52</td>\n",
       "      <td>1</td>\n",
       "    </tr>\n",
       "  </tbody>\n",
       "</table>\n",
       "<p>100 rows × 6 columns</p>\n",
       "</div>"
      ],
      "text/plain": [
       "        col_1  col_2  col_3  col_4  col_5  label\n",
       "rownum                                          \n",
       "950        25     87     30     13     31      0\n",
       "951        13     36     60     59     49      0\n",
       "952        63     41     83     61     58      0\n",
       "953        96     91     81     61     86      0\n",
       "954        17      6     53     56     18      0\n",
       "...       ...    ...    ...    ...    ...    ...\n",
       "1044      545    263    999    812    803      1\n",
       "1045      380    341    197    468     63      1\n",
       "1046      157    750    856    444    694      1\n",
       "1047      275    281    872    711     63      1\n",
       "1048      387    426    907    307     52      1\n",
       "\n",
       "[100 rows x 6 columns]"
      ]
     },
     "execution_count": 5,
     "metadata": {},
     "output_type": "execute_result"
    }
   ],
   "source": [
    "df = df_normal.append(df_broken)\n",
    "df = df.set_index('rownum')\n",
    "print(df.shape)\n",
    "df.tail(100)"
   ]
  },
  {
   "cell_type": "code",
   "execution_count": 6,
   "metadata": {},
   "outputs": [],
   "source": [
    "# save to file\n",
    "df.to_csv('../data/dummy.csv',index=False)"
   ]
  },
  {
   "cell_type": "code",
   "execution_count": 9,
   "metadata": {},
   "outputs": [
    {
     "data": {
      "text/plain": [
       "<matplotlib.axes._subplots.AxesSubplot at 0x7fa19fbb7438>"
      ]
     },
     "execution_count": 9,
     "metadata": {},
     "output_type": "execute_result"
    },
    {
     "data": {
      "image/png": "[encoded data removed]",
      "text/plain": [
       "<Figure size 720x432 with 1 Axes>"
      ]
     },
     "metadata": {
      "needs_background": "light"
     },
     "output_type": "display_data"
    }
   ],
   "source": [
    "df.plot(figsize=(10,6))"
   ]
  },
  {
   "cell_type": "code",
   "execution_count": null,
   "metadata": {},
   "outputs": [],
   "source": []
  },
  {
   "cell_type": "code",
   "execution_count": null,
   "metadata": {},
   "outputs": [],
   "source": []
  }
 ],
 "metadata": {
  "kernelspec": {
   "display_name": "Python 3",
   "language": "python",
   "name": "python3"
  },
  "language_info": {
   "codemirror_mode": {
    "name": "ipython",
    "version": 3
   },
   "file_extension": ".py",
   "mimetype": "text/x-python",
   "name": "python",
   "nbconvert_exporter": "python",
   "pygments_lexer": "ipython3",
   "version": "3.6.9"
  }
 },
 "nbformat": 4,
 "nbformat_minor": 4
}
